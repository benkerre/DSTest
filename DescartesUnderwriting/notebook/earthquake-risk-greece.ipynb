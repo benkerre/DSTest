{
 "cells": [
  {
   "cell_type": "markdown",
   "metadata": {},
   "source": [
    "# Earthquake risk in Greece\n",
    "\n",
    "This project is quite different from a software development task.\n",
    "\n",
    "Don't hesitate to contact us, if you have any doubts on what is asked or if you encounter error will using the notebook."
   ]
  },
  {
   "cell_type": "code",
   "execution_count": 43,
   "metadata": {},
   "outputs": [
    {
     "name": "stdout",
     "output_type": "stream",
     "text": [
      "Today's date: 2022-01-21 09:33:52.208221\n"
     ]
    }
   ],
   "source": [
    "from datetime import datetime\n",
    "start = datetime.today()\n",
    "print(\"Today's date:\", start)"
   ]
  },
  {
   "cell_type": "code",
   "execution_count": 1,
   "metadata": {},
   "outputs": [],
   "source": [
    "%reload_ext autoreload\n",
    "%autoreload 2"
   ]
  },
  {
   "cell_type": "markdown",
   "metadata": {},
   "source": [
    "## Constraints\n",
    "\n",
    "+ 🚨 Only cells with the comment `# NOTE: Fill me!` should be filled\n",
    "+ 🚨 Notebook should be saved and commited **with** outputs for the submission\n",
    "\n",
    "\n",
    "+ ⚠️ The solution only requires packages listed in the `requirements/requirements.txt`\n",
    "+ ⚠️ Unit tests should be favored when asked to write tests \n",
    "+ ⚠️ Tests must automatically be detected running `pytest`\n",
    "+ ⚠️ Requested method signature should be inferred from this notebook\n",
    "\n",
    "\n",
    "## Note\n",
    "\n",
    "+ The `assert` statements in the notebook are here to guide the project.\n",
    "However, successful `assert` statements does not guaranty that your code is correct.\n",
    "\n",
    "## Setup\n",
    "\n",
    "In a Python >= 3.8 virtual env, run:"
   ]
  },
  {
   "cell_type": "code",
   "execution_count": null,
   "metadata": {},
   "outputs": [],
   "source": [
    "! pip install -r ../requirements/requirements.txt\n",
    "! pip install --no-deps -e .."
   ]
  },
  {
   "cell_type": "markdown",
   "metadata": {},
   "source": [
    "## Tests"
   ]
  },
  {
   "cell_type": "code",
   "execution_count": null,
   "metadata": {},
   "outputs": [],
   "source": [
    "! cd .. && pytest"
   ]
  },
  {
   "cell_type": "markdown",
   "metadata": {},
   "source": [
    "---"
   ]
  },
  {
   "cell_type": "markdown",
   "metadata": {},
   "source": [
    "# Context\n",
    "\n",
    "A client asks for an insurance of their asset, located at `(35.025, 25.763)` in Greece.\n",
    "\n",
    "The client wishes to receive a payout under the following conditions:\n",
    "\n",
    "+ earthquake of magnitude `4.5` or higher within `10km`: full payout\n",
    "+ earthquake of magnitude `5.5` or higher within `50km`: `75%` payout\n",
    "+ earthquake of magnitude `6.5` or higher within `200km`: `50%` payout\n",
    "\n",
    "In the event of aftershocks, a payout can only occur once a year using the maximal value.\n",
    "\n",
    "## Example\n",
    "\n",
    "If in the same year:\n",
    "\n",
    "* an earthquake of magnitude `6.8` occurs within `200km`\n",
    "* **and** an aftershock of magnitude `5.8` occurs within `50km`\n",
    "\n",
    "the client receives a `75%` payout, and not a `125%` payout."
   ]
  },
  {
   "cell_type": "code",
   "execution_count": 5,
   "metadata": {},
   "outputs": [],
   "source": [
    "import numpy as np\n",
    "import pandas as pd\n",
    "from datetime import datetime"
   ]
  },
  {
   "cell_type": "markdown",
   "metadata": {},
   "source": [
    "# Earthquake data\n",
    "\n",
    "The US Geological Service (USGS) provides CSV data through their [API](https://earthquake.usgs.gov/fdsnws/event/1/).\n",
    "\n",
    "Use it to retrieve earthquake information.\n",
    "\n",
    "In the module `earthquakes.usgs_api`:\n",
    "+ Implement the function `get_earthquake_data`,\n",
    "+ The function will retrieve the earthquake data of the area of interest for the past 200 years,\n",
    "+ The implementation must use the `urllib` python package,\n",
    "+ The API request url must be build in a dedicated function `build_api_url`,\n",
    "+ Tests should be provided for `build_api_url`.\n",
    "\n",
    "Note: Earthquakes after the 21-10-2021 should not be considered."
   ]
  },
  {
   "cell_type": "code",
   "execution_count": 10,
   "metadata": {},
   "outputs": [],
   "source": [
    "import sys\n",
    "sys.path.insert(0, '../')\n",
    "from src.earthquakes.usgs_api import get_earthquake_data"
   ]
  },
  {
   "cell_type": "code",
   "execution_count": 11,
   "metadata": {},
   "outputs": [],
   "source": [
    "# NOTE: Fill me!\n",
    "latitude = 35.025\n",
    "longitude = 25.763\n",
    "radius = 200 # radius>200 not interested\n",
    "minimum_magnitude = 4.5 # mag<4?5 not interested"
   ]
  },
  {
   "cell_type": "code",
   "execution_count": 12,
   "metadata": {},
   "outputs": [
    {
     "name": "stdout",
     "output_type": "stream",
     "text": [
      "Time request 3.39949631690979 secondes.\n"
     ]
    }
   ],
   "source": [
    "# NOTE: This request may take significant time (>10s)\n",
    "import time\n",
    "start = time.time()\n",
    "earthquake_data  = get_earthquake_data(\n",
    "    latitude=latitude,\n",
    "    longitude=longitude,\n",
    "    maxradiuskm=radius,\n",
    "    minmagnitude=minimum_magnitude,\n",
    "    endtime=datetime(year=2021, month=10, day=21)\n",
    ")\n",
    "end = time.time()\n",
    "print('Time request {} secondes.'.format(end-start)) "
   ]
  },
  {
   "cell_type": "code",
   "execution_count": 13,
   "metadata": {},
   "outputs": [],
   "source": [
    "assert isinstance(earthquake_data, pd.DataFrame)\n",
    "assert len(earthquake_data) == 656"
   ]
  },
  {
   "cell_type": "markdown",
   "metadata": {},
   "source": [
    "## Warning\n",
    "\n",
    "The next test may fail because USGS regularly updates their earthquake database.\n",
    "\n",
    "The dataframe obtained should over be similar to that presented bellow.\n",
    "\n",
    "Please contact us if there is an error."
   ]
  },
  {
   "cell_type": "code",
   "execution_count": 14,
   "metadata": {},
   "outputs": [],
   "source": [
    "expected_earthquake_data = pd.DataFrame([\n",
    "        [\"2021-10-12T09:24:05.099Z\", 35.1691, 26.2152, 20.0, 6.4, \"mww\", np.nan, 19.0, 0.860, 0.46,\"us\", \"us6000ftxu\", \"2021-12-18T19:58:57.040Z\", \"4 km SW of Palekastro, Greece\", \"earthquake\", 6.1, 1.8, 0.048, 42.0, \"reviewed\", \"us\", \"us\"],\n",
    "        [\"2021-10-03T14:31:27.622Z\", 35.1442, 25.2375, 10.0, 4.6, \"mb\", np.nan, 119.0, 0.318, 0.64, \"us\", \"us6000fsp1\", \"2021-12-10T21:14:19.040Z\", \"2 km W of Arkalochóri, Greece\", \"earthquake\", 5.0, 1.9, 0.165, 13.0, \"reviewed\", \"us\", \"us\"],\n",
    "        [\"2021-09-29T11:54:48.885Z\", 35.0268, 25.1561, 10.0, 4.6, \"mb\", np.nan, 69.0, 0.339, 0.83, \"us\", \"us6000fq3y\", \"2021-12-04T14:27:58.040Z\", \"2 km N of Pýrgos, Greece\", \"earthquake\", 5.1, 1.3, 0.068, 64.0, \"reviewed\", \"us\", \"us\"],\n",
    "        [\"2021-09-28T15:13:16.867Z\", 35.2054, 25.2791, 10.0, 4.7, \"mb\", np.nan, 58.0, 0.329, 0.70, \"us\", \"us7000ff84\", \"2021-12-04T14:30:09.040Z\", \"1 km N of Thrapsanón, Greece\", \"earthquake\", 6.9, 1.8, 0.067, 73.0, \"reviewed\", \"us\", \"us\"],\n",
    "        [\"2021-09-28T04:48:08.650Z\", 35.0817, 25.2018, 10.0, 5.3, \"mww\", np.nan, 43.0, 0.328, 0.94, \"us\", \"us7000ff36\", \"2021-12-04T14:30:04.040Z\", \"9 km SW of Arkalochóri, Greece\", \"earthquake\", 4.5, 1.7, 0.046, 45.0, \"reviewed\", \"us\", \"us\"],\n",
    "    ],\n",
    "    columns=['time', 'latitude', 'longitude', 'depth', 'mag', 'magType', 'nst', 'gap', 'dmin', 'rms', 'net', 'id', 'updated', 'place', 'type', 'horizontalError', 'depthError', 'magError', 'magNst', 'status', 'locationSource', 'magSource']\n",
    ")"
   ]
  },
  {
   "cell_type": "code",
   "execution_count": 15,
   "metadata": {},
   "outputs": [],
   "source": [
    "earthquake_data_sample = earthquake_data[earthquake_data[\"time\"].isin(expected_earthquake_data[\"time\"])]\n",
    "pd.testing.assert_frame_equal(earthquake_data_sample, expected_earthquake_data)"
   ]
  },
  {
   "cell_type": "markdown",
   "metadata": {},
   "source": [
    "# Distance\n",
    "\n",
    "We wish to compute the the historical payouts (i.e. the payouts that would have occurred for the past 200 years).\n",
    "\n",
    "To compute the historical payouts, we need to know the distance between each earthquake and our client's asset.\n",
    "\n",
    "The distance between two points on a sphere is the [Haversine distance](https://en.wikipedia.org/wiki/Haversine_formula). In the module `eathquakes.tools`:\n",
    "- Implement and test the function `get_haversine_distance`,\n",
    "- Use `earthquakes.tools.EARTH_RADIUS` (6378km) as an approximation of the radius of Earth."
   ]
  },
  {
   "cell_type": "code",
   "execution_count": 16,
   "metadata": {},
   "outputs": [
    {
     "name": "stdout",
     "output_type": "stream",
     "text": [
      "Time of computing haversine distance between the client and all earthquake_data is 0.0012199878692626953 secondes.\n"
     ]
    }
   ],
   "source": [
    "from src.earthquakes.usgs_api import LATITUDE_PARAM, LONGITUDE_PARAM, DISTANCE_COLUMN\n",
    "from src.earthquakes.tools import get_haversine_distance\n",
    "\n",
    "start = time.time()\n",
    "distances = get_haversine_distance(earthquake_data[LATITUDE_PARAM], earthquake_data[LONGITUDE_PARAM], latitude, longitude)\n",
    "end = time.time()\n",
    "print('Time of computing haversine distance between the client and all earthquake_data is {} secondes.'.format(end-start)) \n",
    "earthquake_data[DISTANCE_COLUMN] = distances"
   ]
  },
  {
   "cell_type": "markdown",
   "metadata": {},
   "source": [
    "## Historical payouts and burning costs\n",
    "\n",
    "### Payout\n",
    "\n",
    "The historical payouts are a map `year -> payout in %`.\n",
    "\n",
    "eg: `1950: 50` for a payout of `50%` in 1950.\n",
    "\n",
    "Payouts are NOT given per event, but per year.\n",
    "\n",
    "This map can take the form of a python `dict` or of a pandas `Series`. \n",
    "\n",
    "### Burning cost\n",
    "\n",
    "The `burning cost` is the average of payouts over a time range.\n",
    "\n",
    "In this project, the burning cost should be expressed in `%`. \n",
    "\n",
    "### Payout structure\n",
    "\n",
    "The payout structure is:\n",
    "\n",
    "| Radius | Magnitude | Payout |\n",
    "|--------|-----------|--------|\n",
    "| 10km   | 4.5       | 100 %  |\n",
    "| 50km   | 5.5       |  75 %  |\n",
    "| 200km  | 6.5       |  50 %  |\n",
    "\n",
    "Payouts can occur only once in a given year.\n",
    "\n",
    "In the module `earthquakes.tools`:\n",
    "+ Implement the functions `compute_payouts` and `compute_burning_cost`,\n",
    "+ Tests for these functions are not required.\n",
    "\n",
    "### Example\n",
    "\n",
    "A payout `{1950: 50, 1992: 75}` means that we would have paid our client\n",
    "+ in 1950, for `50%` of the insured amount (called 'limit')\n",
    "+ in 1992, for `75%` of the limit\n",
    "\n",
    "The burning cost over the `1922-2021` period would be `1.25%`.\n",
    "\n",
    "The burning cost over the `1972-2021` period would be `1.5%`."
   ]
  },
  {
   "cell_type": "code",
   "execution_count": 17,
   "metadata": {},
   "outputs": [],
   "source": [
    "from src.earthquakes.tools import compute_payouts, compute_burning_cost"
   ]
  },
  {
   "cell_type": "code",
   "execution_count": 19,
   "metadata": {},
   "outputs": [],
   "source": [
    "# NOTE: Fill me!\n",
    "payout_structure = [[10, 4.5, 100],\n",
    "                    [50, 5.5, 75],\n",
    "                    [200, 6.5, 50]]"
   ]
  },
  {
   "cell_type": "code",
   "execution_count": 20,
   "metadata": {},
   "outputs": [
    {
     "data": {
      "text/plain": [
       "{1911: 75,\n",
       " 1922: 50,\n",
       " 1923: 0,\n",
       " 1948: 50,\n",
       " 1950: 100,\n",
       " 1951: 0,\n",
       " 1952: 50,\n",
       " 1953: 0,\n",
       " 1954: 0,\n",
       " 1955: 0,\n",
       " 1956: 100,\n",
       " 1957: 0,\n",
       " 1958: 0,\n",
       " 1959: 0,\n",
       " 1962: 0,\n",
       " 1965: 0,\n",
       " 1966: 0,\n",
       " 1968: 0,\n",
       " 1969: 0,\n",
       " 1973: 0,\n",
       " 1974: 0,\n",
       " 1975: 100,\n",
       " 1976: 100,\n",
       " 1977: 0,\n",
       " 1978: 100,\n",
       " 1979: 0,\n",
       " 1980: 0,\n",
       " 1981: 100,\n",
       " 1982: 0,\n",
       " 1983: 100,\n",
       " 1984: 100,\n",
       " 1985: 0,\n",
       " 1986: 0,\n",
       " 1987: 100,\n",
       " 1988: 100,\n",
       " 1989: 75,\n",
       " 1990: 0,\n",
       " 1991: 0,\n",
       " 1992: 100,\n",
       " 1993: 0,\n",
       " 1994: 0,\n",
       " 1995: 0,\n",
       " 1996: 0,\n",
       " 1997: 0,\n",
       " 1998: 100,\n",
       " 1999: 100,\n",
       " 2000: 100,\n",
       " 2001: 0,\n",
       " 2002: 0,\n",
       " 2003: 0,\n",
       " 2004: 0,\n",
       " 2005: 100,\n",
       " 2006: 0,\n",
       " 2007: 0,\n",
       " 2008: 75,\n",
       " 2009: 75,\n",
       " 2010: 75,\n",
       " 2011: 100,\n",
       " 2012: 100,\n",
       " 2013: 0,\n",
       " 2014: 100,\n",
       " 2015: 100,\n",
       " 2016: 100,\n",
       " 2017: 0,\n",
       " 2018: 100,\n",
       " 2019: 0,\n",
       " 2020: 100,\n",
       " 2021: 75}"
      ]
     },
     "execution_count": 20,
     "metadata": {},
     "output_type": "execute_result"
    }
   ],
   "source": [
    "payouts = compute_payouts(earthquake_data, payout_structure)\n",
    "payouts"
   ]
  },
  {
   "cell_type": "code",
   "execution_count": 21,
   "metadata": {},
   "outputs": [],
   "source": [
    "payout_values = list(payouts.values())\n",
    "assert np.max(payout_values) > 1\n",
    "assert np.max(payout_values) <= 100"
   ]
  },
  {
   "cell_type": "code",
   "execution_count": 22,
   "metadata": {},
   "outputs": [],
   "source": [
    "burning_cost = compute_burning_cost(payouts, start_year=1952, end_year=2021)"
   ]
  },
  {
   "cell_type": "code",
   "execution_count": 23,
   "metadata": {},
   "outputs": [
    {
     "ename": "AssertionError",
     "evalue": "\nNot equal to tolerance rtol=1e-07, atol=0.01\n\nMismatched elements: 1 / 1 (100%)\nMax absolute difference: 25.36142857\nMax relative difference: 2.36801387\n x: array(36.071429)\n y: array(10.71)",
     "output_type": "error",
     "traceback": [
      "\u001b[0;31m---------------------------------------------------------------------------\u001b[0m",
      "\u001b[0;31mAssertionError\u001b[0m                            Traceback (most recent call last)",
      "\u001b[0;32m<ipython-input-23-9b841bc19298>\u001b[0m in \u001b[0;36m<module>\u001b[0;34m\u001b[0m\n\u001b[0;32m----> 1\u001b[0;31m \u001b[0mnp\u001b[0m\u001b[0;34m.\u001b[0m\u001b[0mtesting\u001b[0m\u001b[0;34m.\u001b[0m\u001b[0massert_allclose\u001b[0m\u001b[0;34m(\u001b[0m\u001b[0mburning_cost\u001b[0m\u001b[0;34m,\u001b[0m \u001b[0;36m10.71\u001b[0m\u001b[0;34m,\u001b[0m \u001b[0matol\u001b[0m\u001b[0;34m=\u001b[0m\u001b[0;36m1e-2\u001b[0m\u001b[0;34m)\u001b[0m\u001b[0;34m\u001b[0m\u001b[0;34m\u001b[0m\u001b[0m\n\u001b[0m",
      "\u001b[0;32m~/.local/lib/python3.6/site-packages/numpy/testing/_private/utils.py\u001b[0m in \u001b[0;36massert_allclose\u001b[0;34m(actual, desired, rtol, atol, equal_nan, err_msg, verbose)\u001b[0m\n\u001b[1;32m   1526\u001b[0m     \u001b[0mheader\u001b[0m \u001b[0;34m=\u001b[0m \u001b[0;34m'Not equal to tolerance rtol=%g, atol=%g'\u001b[0m \u001b[0;34m%\u001b[0m \u001b[0;34m(\u001b[0m\u001b[0mrtol\u001b[0m\u001b[0;34m,\u001b[0m \u001b[0matol\u001b[0m\u001b[0;34m)\u001b[0m\u001b[0;34m\u001b[0m\u001b[0;34m\u001b[0m\u001b[0m\n\u001b[1;32m   1527\u001b[0m     assert_array_compare(compare, actual, desired, err_msg=str(err_msg),\n\u001b[0;32m-> 1528\u001b[0;31m                          verbose=verbose, header=header, equal_nan=equal_nan)\n\u001b[0m\u001b[1;32m   1529\u001b[0m \u001b[0;34m\u001b[0m\u001b[0m\n\u001b[1;32m   1530\u001b[0m \u001b[0;34m\u001b[0m\u001b[0m\n",
      "\u001b[0;32m~/.local/lib/python3.6/site-packages/numpy/testing/_private/utils.py\u001b[0m in \u001b[0;36massert_array_compare\u001b[0;34m(comparison, x, y, err_msg, verbose, header, precision, equal_nan, equal_inf)\u001b[0m\n\u001b[1;32m    838\u001b[0m                                 \u001b[0mverbose\u001b[0m\u001b[0;34m=\u001b[0m\u001b[0mverbose\u001b[0m\u001b[0;34m,\u001b[0m \u001b[0mheader\u001b[0m\u001b[0;34m=\u001b[0m\u001b[0mheader\u001b[0m\u001b[0;34m,\u001b[0m\u001b[0;34m\u001b[0m\u001b[0;34m\u001b[0m\u001b[0m\n\u001b[1;32m    839\u001b[0m                                 names=('x', 'y'), precision=precision)\n\u001b[0;32m--> 840\u001b[0;31m             \u001b[0;32mraise\u001b[0m \u001b[0mAssertionError\u001b[0m\u001b[0;34m(\u001b[0m\u001b[0mmsg\u001b[0m\u001b[0;34m)\u001b[0m\u001b[0;34m\u001b[0m\u001b[0;34m\u001b[0m\u001b[0m\n\u001b[0m\u001b[1;32m    841\u001b[0m     \u001b[0;32mexcept\u001b[0m \u001b[0mValueError\u001b[0m\u001b[0;34m:\u001b[0m\u001b[0;34m\u001b[0m\u001b[0;34m\u001b[0m\u001b[0m\n\u001b[1;32m    842\u001b[0m         \u001b[0;32mimport\u001b[0m \u001b[0mtraceback\u001b[0m\u001b[0;34m\u001b[0m\u001b[0;34m\u001b[0m\u001b[0m\n",
      "\u001b[0;31mAssertionError\u001b[0m: \nNot equal to tolerance rtol=1e-07, atol=0.01\n\nMismatched elements: 1 / 1 (100%)\nMax absolute difference: 25.36142857\nMax relative difference: 2.36801387\n x: array(36.071429)\n y: array(10.71)"
     ]
    }
   ],
   "source": [
    "np.testing.assert_allclose(burning_cost, 10.71, atol=1e-2)"
   ]
  },
  {
   "cell_type": "code",
   "execution_count": 24,
   "metadata": {},
   "outputs": [],
   "source": [
    "import matplotlib.pyplot as plt"
   ]
  },
  {
   "cell_type": "code",
   "execution_count": 25,
   "metadata": {},
   "outputs": [
    {
     "data": {
      "image/png": "[encoded data removed]",
      "text/plain": [
       "<Figure size 432x288 with 1 Axes>"
      ]
     },
     "metadata": {
      "needs_background": "light"
     },
     "output_type": "display_data"
    }
   ],
   "source": [
    "years = range(1921, 2021)\n",
    "plt.plot(\n",
    "    years, \n",
    "    [\n",
    "        compute_burning_cost(payouts, start_year=start_year, end_year=2021) \n",
    "        for start_year in years\n",
    "    ]\n",
    ")\n",
    "plt.gca().invert_xaxis()"
   ]
  },
  {
   "cell_type": "markdown",
   "metadata": {},
   "source": [
    "# Large asset portfolio - async requests\n",
    "\n",
    "Our client also whishes to cover a large amount of properties all over Europe.\n",
    "\n",
    "In order to speed-up the requests to the USGS API, in the module `earthquakes.usgs_api`:\n",
    "- Implement the `async` function `get_earthquake_data_for_multiple_locations`,\n",
    "- The implementation should use the `asyncio` and `aiohttp` libraries,\n",
    "- The solution should re-use some of the functions already written,\n",
    "- Tests are not required for any of the functions.\n",
    "\n",
    "Note: it is possible that the notebook autoreload feature doesn't work for `async` functions - a kernel restart may be necessary after each modifications."
   ]
  },
  {
   "cell_type": "code",
   "execution_count": 26,
   "metadata": {},
   "outputs": [],
   "source": [
    "import numpy as np\n",
    "import pandas as pd\n",
    "from datetime import datetime"
   ]
  },
  {
   "cell_type": "code",
   "execution_count": 27,
   "metadata": {},
   "outputs": [],
   "source": [
    "number_of_assets = 10\n",
    "# NOTE: limiting to number of assets so that the query doesn't take too long."
   ]
  },
  {
   "cell_type": "code",
   "execution_count": 28,
   "metadata": {},
   "outputs": [],
   "source": [
    "random_state = np.random.RandomState(0)\n",
    "\n",
    "random_values = random_state.random(2*number_of_assets)\n",
    "\n",
    "latitudes = random_values[::2] * 20 + 35.0\n",
    "longitudes = random_values[1::2] * 25 + 3.0"
   ]
  },
  {
   "cell_type": "code",
   "execution_count": 29,
   "metadata": {},
   "outputs": [],
   "source": [
    "from src.earthquakes.usgs_api import get_earthquake_data_for_multiple_locations"
   ]
  },
  {
   "cell_type": "code",
   "execution_count": 30,
   "metadata": {},
   "outputs": [],
   "source": [
    "# NOTE: Fill me!\n",
    "assets = np.stack((latitudes, longitudes), axis=1)"
   ]
  },
  {
   "cell_type": "code",
   "execution_count": 31,
   "metadata": {},
   "outputs": [
    {
     "name": "stdout",
     "output_type": "stream",
     "text": [
      "Time request 3.8007147312164307 secondes.\n"
     ]
    }
   ],
   "source": [
    "# NOTE: This request may take significant time (>10s)\n",
    "start = time.time()\n",
    "earthquake_data = await get_earthquake_data_for_multiple_locations(  # type: ignore\n",
    "    assets, \n",
    "    maxradiuskm=radius,\n",
    "    minmagnitude=minimum_magnitude,\n",
    "    endtime=datetime(year=2021, month=10, day=21)\n",
    ")\n",
    "end = time.time()\n",
    "print('Time request {} secondes.'.format(end-start)) "
   ]
  },
  {
   "cell_type": "code",
   "execution_count": 32,
   "metadata": {},
   "outputs": [
    {
     "ename": "AssertionError",
     "evalue": "",
     "output_type": "error",
     "traceback": [
      "\u001b[0;31m---------------------------------------------------------------------------\u001b[0m",
      "\u001b[0;31mAssertionError\u001b[0m                            Traceback (most recent call last)",
      "\u001b[0;32m<ipython-input-32-760837e9d0f3>\u001b[0m in \u001b[0;36m<module>\u001b[0;34m\u001b[0m\n\u001b[1;32m      1\u001b[0m \u001b[0;32massert\u001b[0m \u001b[0misinstance\u001b[0m\u001b[0;34m(\u001b[0m\u001b[0mearthquake_data\u001b[0m\u001b[0;34m,\u001b[0m \u001b[0mpd\u001b[0m\u001b[0;34m.\u001b[0m\u001b[0mDataFrame\u001b[0m\u001b[0;34m)\u001b[0m\u001b[0;34m\u001b[0m\u001b[0;34m\u001b[0m\u001b[0m\n\u001b[0;32m----> 2\u001b[0;31m \u001b[0;32massert\u001b[0m \u001b[0mlen\u001b[0m\u001b[0;34m(\u001b[0m\u001b[0mearthquake_data\u001b[0m\u001b[0;34m)\u001b[0m \u001b[0;34m==\u001b[0m \u001b[0;36m1036\u001b[0m\u001b[0;34m\u001b[0m\u001b[0;34m\u001b[0m\u001b[0m\n\u001b[0m",
      "\u001b[0;31mAssertionError\u001b[0m: "
     ]
    }
   ],
   "source": [
    "assert isinstance(earthquake_data, pd.DataFrame)\n",
    "assert len(earthquake_data) == 1036"
   ]
  },
  {
   "cell_type": "code",
   "execution_count": 33,
   "metadata": {},
   "outputs": [
    {
     "data": {
      "text/plain": [
       "1034"
      ]
     },
     "execution_count": 33,
     "metadata": {},
     "output_type": "execute_result"
    }
   ],
   "source": [
    "len(earthquake_data) #(-2 ??)"
   ]
  },
  {
   "cell_type": "code",
   "execution_count": null,
   "metadata": {},
   "outputs": [],
   "source": []
  }
 ],
 "metadata": {
  "interpreter": {
   "hash": "60230ecbd9b9a94ff1397bcfe0cbc26fc23c06e2385a718caf30b052d5019f5e"
  },
  "kernelspec": {
   "display_name": "Python 3",
   "language": "python",
   "name": "python3"
  },
  "language_info": {
   "codemirror_mode": {
    "name": "ipython",
    "version": 3
   },
   "file_extension": ".py",
   "mimetype": "text/x-python",
   "name": "python",
   "nbconvert_exporter": "python",
   "pygments_lexer": "ipython3",
   "version": "3.6.8"
  }
 },
 "nbformat": 4,
 "nbformat_minor": 2
}
